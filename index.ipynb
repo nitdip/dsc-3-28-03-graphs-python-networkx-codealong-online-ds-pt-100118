{
 "cells": [
  {
   "cell_type": "markdown",
   "metadata": {},
   "source": [
    "# Graphs in Python with NetworkX - code along\n",
    "## Introduction\n",
    "\n",
    "In this code along styled lab, we shall get an introduction to the popular graph library in Python, known as `NetworkX`. We shall see how to implement a basic graph while defining its edges, nodes and corresponding weights. We shall also look at visualizing a graph in Python. \n",
    "\n",
    "## Objectives\n",
    "You will be able to:\n",
    "* Understand how to draw basic graphs in networkx\n",
    "* Use different ways to add nodes and edges to a graph\n",
    "* Set node and edge attributes and access the network information from the stored dictionary structure\n",
    "* Visualize a networkx graph with customizations using matplotlib\n",
    "\n",
    "**Note: It is imperative that you consult the the [`networkx` documentation](https://networkx.github.io/documentation/networkx-1.10/index.html) while going through this and upcoming lessons to experiment with graph methods, customizations, algorithms etc. ** "
   ]
  },
  {
   "cell_type": "markdown",
   "metadata": {},
   "source": [
    "\n",
    "\n",
    "<img src=\"networkX.png\" width=400>\n",
    "\n",
    "NetworkX is a  high-productivity software for complex networks analysis. NetworkX offers data structures for representing various types of networks for connected entities including directed, undirected and multi graphs. We shall see how to build these in this section of the course.\n",
    "\n",
    "\n",
    "\n",
    "\n",
    "NetworkX offers a high level of flexibility in terms of how nodes and edges are defined and what kind of data can be used to represent these entities. e.g. nodes can be hashed \"term\" entities in case of NLP and edges may contain any type of associations between these terms. Hence we can represent complex data structures using structured as well as unstructured data types. \n",
    "\n",
    "NetworkX also comes packaged with a lot of network algorithms for detailed network analysis. A detailed ist of these algorithms can be viewed [here](https://networkx.github.io/documentation/stable/reference/algorithms/index.html).  FInally, NetworkX also allows easy visualization of the the graphs that we create, using matplotlib functionality. NetworkX is multi-platform and hence a visualization tool of choice for most data science experiments in python, as well as other platforms. It is possible to draw small graphs with NetworkX. You can export network data and draw with other programs (GraphViz, Gephi, etc.). Following graphs generated from NetworkX give you an idea about types of visualizations you can develop using this tool \n",
    "<img src=\"example.png\" width=900>\n"
   ]
  },
  {
   "cell_type": "markdown",
   "metadata": {},
   "source": [
    "## When to use NetworkX\n",
    "Unlike many other tools, NetworkX is designed to handle data on a scale relevant to common modern problems. \n",
    "Most of the core algorithms rely on extremely fast legacy code highly flexible graph implementations. So as mentioned above, a node/edge can be any data types. \n",
    "\n",
    "However, Large-scale problems may require faster approaches (i.e. massive networks based on Big Data with mipllions of nodes and billions of edges). Solutions like GraphX on the spark platform make better use of memory/processors in a distributed environment than Python (large objects, parallel computation). It is hence recommended that for large amounts of data (that qualifies as \"Big Data\") , a suitable tool should be used. \n",
    "\n",
    "Anyway, for this section, we can start off with NetworkX and look at the sort of problems that network analysis can solve for us. \n",
    "\n",
    "## Import NetworkX\n",
    "\n",
    "We shall first pip install networkX and import it into our working environment, the usual Python way. \n",
    "\n",
    "\n",
    "```python\n",
    "# Install NetworkX if not currently installed\n",
    "!pip install networkx\n",
    "\n",
    "import networkx as nx\n",
    "import matplotlib.pyplot as plt\n",
    "import numpy as np\n",
    "import warnings\n",
    "warnings.filterwarnings('ignore')\n",
    "\n",
    "%matplotlib inline\n",
    "```"
   ]
  },
  {
   "cell_type": "code",
   "execution_count": 1,
   "metadata": {},
   "outputs": [
    {
     "name": "stdout",
     "output_type": "stream",
     "text": [
      "Requirement already satisfied: networkx in c:\\users\\nitdip\\anaconda3\\lib\\site-packages (2.1)\n",
      "Requirement already satisfied: decorator>=4.1.0 in c:\\users\\nitdip\\anaconda3\\lib\\site-packages (from networkx) (4.3.0)\n"
     ]
    },
    {
     "name": "stderr",
     "output_type": "stream",
     "text": [
      "twisted 18.7.0 requires PyHamcrest>=1.9.0, which is not installed.\n",
      "You are using pip version 10.0.1, however version 19.0.2 is available.\n",
      "You should consider upgrading via the 'python -m pip install --upgrade pip' command.\n"
     ]
    }
   ],
   "source": [
    "# Code here \n",
    "!pip install networkx"
   ]
  },
  {
   "cell_type": "code",
   "execution_count": 3,
   "metadata": {},
   "outputs": [],
   "source": [
    "import networkx as nx\n",
    "import matplotlib.pyplot as plt\n",
    "import numpy as np\n",
    "import warnings\n",
    "warnings.filterwarnings('ignore')"
   ]
  },
  {
   "cell_type": "markdown",
   "metadata": {},
   "source": [
    "## Creating a new Graph \n",
    "\n",
    "Graph is just a collection of nodes(vertices) with edges(links) etc. Below is how you create a graph in networkx. First we shall create an instance of graph as shown below:\n",
    "```python\n",
    "# Create an empty graph object with no nodes and edges.\n",
    "G = nx.Graph() \n",
    "```"
   ]
  },
  {
   "cell_type": "code",
   "execution_count": 4,
   "metadata": {},
   "outputs": [],
   "source": [
    "# Code here \n",
    "# to create a graph with NetworkX assign a variable for the instance nx.Graph()\n",
    "G = nx.Graph()"
   ]
  },
  {
   "cell_type": "markdown",
   "metadata": {},
   "source": [
    "## Adding nodes\n",
    "\n",
    "Adding node and nodes using `add_node` and `add_nodes_from` methods. As mentioned earlier, in NetworkX, nodes can be any hashable object e.g. a text string, an image. We can also define a node as an XML object with key value pairs . A node can also be another graph. Below is how you would add a node to the graph we created earlier. \n",
    "```python\n",
    "\n",
    "# Add a few nodes to the network above using different data types\n",
    "G.add_node(1)\n",
    "G.add_node('one')\n",
    "G.add_node(3)\n",
    "G.add_node('second')\n",
    "\n",
    "import math\n",
    "G.add_node(math.cos)\n",
    "```"
   ]
  },
  {
   "cell_type": "code",
   "execution_count": 5,
   "metadata": {},
   "outputs": [],
   "source": [
    "# Code here \n",
    "# Nodes of different data types can be added to a graph\n",
    "# add_node() method is how to add nodes\n",
    "G.add_node(1)\n",
    "G.add_node('one')\n",
    "G.add_node(3)\n",
    "G.add_node('second')"
   ]
  },
  {
   "cell_type": "code",
   "execution_count": 6,
   "metadata": {},
   "outputs": [],
   "source": [
    "import math"
   ]
  },
  {
   "cell_type": "code",
   "execution_count": 7,
   "metadata": {},
   "outputs": [],
   "source": [
    "G.add_node(math.cos)"
   ]
  },
  {
   "cell_type": "markdown",
   "metadata": {},
   "source": [
    "## Viewing nodes\n",
    "\n",
    "Nodes can be easily viewed using `graph.nodes()` method. \n",
    "```python\n",
    "# View network nodes\n",
    "G.nodes()\n",
    "```"
   ]
  },
  {
   "cell_type": "code",
   "execution_count": 8,
   "metadata": {},
   "outputs": [
    {
     "data": {
      "text/plain": [
       "NodeView((1, 'one', 3, 'second', <built-in function cos>))"
      ]
     },
     "execution_count": 8,
     "metadata": {},
     "output_type": "execute_result"
    }
   ],
   "source": [
    "# Code here \n",
    "# To view codes the graph.nodes() method is used.\n",
    "G.nodes()"
   ]
  },
  {
   "cell_type": "markdown",
   "metadata": {},
   "source": [
    "A node can be any hashable object such as a string, a function, a file and more."
   ]
  },
  {
   "cell_type": "markdown",
   "metadata": {},
   "source": [
    "Remeber, unhashable objects , like lists and dictionaries cannot be be added as nodes and will throw an error. Try this below:\n",
    "\n",
    "```python\n",
    "# These will throw an error\n",
    "G.add_node({'dictionary': 'will throw error'})\n",
    "# OR\n",
    "G.add_node([1, 2])\n",
    "```"
   ]
  },
  {
   "cell_type": "code",
   "execution_count": 9,
   "metadata": {},
   "outputs": [
    {
     "ename": "TypeError",
     "evalue": "unhashable type: 'list'",
     "output_type": "error",
     "traceback": [
      "\u001b[1;31m---------------------------------------------------------------------------\u001b[0m",
      "\u001b[1;31mTypeError\u001b[0m                                 Traceback (most recent call last)",
      "\u001b[1;32m<ipython-input-9-c55f153b360b>\u001b[0m in \u001b[0;36m<module>\u001b[1;34m()\u001b[0m\n\u001b[0;32m      1\u001b[0m \u001b[1;31m# Code here\u001b[0m\u001b[1;33m\u001b[0m\u001b[1;33m\u001b[0m\u001b[0m\n\u001b[1;32m----> 2\u001b[1;33m \u001b[0mG\u001b[0m\u001b[1;33m.\u001b[0m\u001b[0madd_node\u001b[0m\u001b[1;33m(\u001b[0m\u001b[1;33m[\u001b[0m\u001b[1;33m{\u001b[0m\u001b[1;34m'dictionary'\u001b[0m\u001b[1;33m:\u001b[0m\u001b[1;34m'will throw error'\u001b[0m\u001b[1;33m}\u001b[0m\u001b[1;33m]\u001b[0m\u001b[1;33m)\u001b[0m\u001b[1;33m\u001b[0m\u001b[0m\n\u001b[0m",
      "\u001b[1;32m~\\Anaconda3\\lib\\site-packages\\networkx\\classes\\graph.py\u001b[0m in \u001b[0;36madd_node\u001b[1;34m(self, node_for_adding, **attr)\u001b[0m\n\u001b[0;32m    479\u001b[0m         \u001b[0mdoesn\u001b[0m\u001b[0;31m'\u001b[0m\u001b[0mt\u001b[0m \u001b[0mchange\u001b[0m \u001b[0mon\u001b[0m \u001b[0mmutables\u001b[0m\u001b[1;33m.\u001b[0m\u001b[1;33m\u001b[0m\u001b[0m\n\u001b[0;32m    480\u001b[0m         \"\"\"\n\u001b[1;32m--> 481\u001b[1;33m         \u001b[1;32mif\u001b[0m \u001b[0mnode_for_adding\u001b[0m \u001b[1;32mnot\u001b[0m \u001b[1;32min\u001b[0m \u001b[0mself\u001b[0m\u001b[1;33m.\u001b[0m\u001b[0m_node\u001b[0m\u001b[1;33m:\u001b[0m\u001b[1;33m\u001b[0m\u001b[0m\n\u001b[0m\u001b[0;32m    482\u001b[0m             \u001b[0mself\u001b[0m\u001b[1;33m.\u001b[0m\u001b[0m_adj\u001b[0m\u001b[1;33m[\u001b[0m\u001b[0mnode_for_adding\u001b[0m\u001b[1;33m]\u001b[0m \u001b[1;33m=\u001b[0m \u001b[0mself\u001b[0m\u001b[1;33m.\u001b[0m\u001b[0madjlist_inner_dict_factory\u001b[0m\u001b[1;33m(\u001b[0m\u001b[1;33m)\u001b[0m\u001b[1;33m\u001b[0m\u001b[0m\n\u001b[0;32m    483\u001b[0m             \u001b[0mself\u001b[0m\u001b[1;33m.\u001b[0m\u001b[0m_node\u001b[0m\u001b[1;33m[\u001b[0m\u001b[0mnode_for_adding\u001b[0m\u001b[1;33m]\u001b[0m \u001b[1;33m=\u001b[0m \u001b[0mattr\u001b[0m\u001b[1;33m\u001b[0m\u001b[0m\n",
      "\u001b[1;31mTypeError\u001b[0m: unhashable type: 'list'"
     ]
    }
   ],
   "source": [
    "# Code here \n",
    "G.add_node([{'dictionary':'will throw error'}])"
   ]
  },
  {
   "cell_type": "code",
   "execution_count": 10,
   "metadata": {},
   "outputs": [
    {
     "ename": "TypeError",
     "evalue": "unhashable type: 'list'",
     "output_type": "error",
     "traceback": [
      "\u001b[1;31m---------------------------------------------------------------------------\u001b[0m",
      "\u001b[1;31mTypeError\u001b[0m                                 Traceback (most recent call last)",
      "\u001b[1;32m<ipython-input-10-e1df8d43fbe2>\u001b[0m in \u001b[0;36m<module>\u001b[1;34m()\u001b[0m\n\u001b[1;32m----> 1\u001b[1;33m \u001b[0mG\u001b[0m\u001b[1;33m.\u001b[0m\u001b[0madd_node\u001b[0m\u001b[1;33m(\u001b[0m\u001b[1;33m[\u001b[0m\u001b[1;36m1\u001b[0m\u001b[1;33m,\u001b[0m\u001b[1;36m2\u001b[0m\u001b[1;33m]\u001b[0m\u001b[1;33m)\u001b[0m\u001b[1;33m\u001b[0m\u001b[0m\n\u001b[0m",
      "\u001b[1;32m~\\Anaconda3\\lib\\site-packages\\networkx\\classes\\graph.py\u001b[0m in \u001b[0;36madd_node\u001b[1;34m(self, node_for_adding, **attr)\u001b[0m\n\u001b[0;32m    479\u001b[0m         \u001b[0mdoesn\u001b[0m\u001b[0;31m'\u001b[0m\u001b[0mt\u001b[0m \u001b[0mchange\u001b[0m \u001b[0mon\u001b[0m \u001b[0mmutables\u001b[0m\u001b[1;33m.\u001b[0m\u001b[1;33m\u001b[0m\u001b[0m\n\u001b[0;32m    480\u001b[0m         \"\"\"\n\u001b[1;32m--> 481\u001b[1;33m         \u001b[1;32mif\u001b[0m \u001b[0mnode_for_adding\u001b[0m \u001b[1;32mnot\u001b[0m \u001b[1;32min\u001b[0m \u001b[0mself\u001b[0m\u001b[1;33m.\u001b[0m\u001b[0m_node\u001b[0m\u001b[1;33m:\u001b[0m\u001b[1;33m\u001b[0m\u001b[0m\n\u001b[0m\u001b[0;32m    482\u001b[0m             \u001b[0mself\u001b[0m\u001b[1;33m.\u001b[0m\u001b[0m_adj\u001b[0m\u001b[1;33m[\u001b[0m\u001b[0mnode_for_adding\u001b[0m\u001b[1;33m]\u001b[0m \u001b[1;33m=\u001b[0m \u001b[0mself\u001b[0m\u001b[1;33m.\u001b[0m\u001b[0madjlist_inner_dict_factory\u001b[0m\u001b[1;33m(\u001b[0m\u001b[1;33m)\u001b[0m\u001b[1;33m\u001b[0m\u001b[0m\n\u001b[0;32m    483\u001b[0m             \u001b[0mself\u001b[0m\u001b[1;33m.\u001b[0m\u001b[0m_node\u001b[0m\u001b[1;33m[\u001b[0m\u001b[0mnode_for_adding\u001b[0m\u001b[1;33m]\u001b[0m \u001b[1;33m=\u001b[0m \u001b[0mattr\u001b[0m\u001b[1;33m\u001b[0m\u001b[0m\n",
      "\u001b[1;31mTypeError\u001b[0m: unhashable type: 'list'"
     ]
    }
   ],
   "source": [
    "G.add_node([1,2])"
   ]
  },
  {
   "cell_type": "markdown",
   "metadata": {},
   "source": [
    "We can add elements from a list by using a different method. Let's add some more nodes nodes using `add_nodes_from`. \n",
    "\n",
    "```python\n",
    "# Add nodes from list\n",
    "list_of_nodes = [2, 3, 'node4']\n",
    "G.add_nodes_from(list_of_nodes)\n",
    "G.nodes()\n",
    "```"
   ]
  },
  {
   "cell_type": "code",
   "execution_count": 11,
   "metadata": {},
   "outputs": [
    {
     "data": {
      "text/plain": [
       "NodeView((1, 'one', 3, 'second', <built-in function cos>, 2, 'node4'))"
      ]
     },
     "execution_count": 11,
     "metadata": {},
     "output_type": "execute_result"
    }
   ],
   "source": [
    "# Code here \n",
    "# elements from a list can be added to a graph using the graph.add_nodes_from() method\n",
    "list_of_nodes = [2, 3, 'node4']\n",
    "# adds the list of nodes to the graph\n",
    "G.add_nodes_from(list_of_nodes)\n",
    "# shows the graph\n",
    "G.nodes()"
   ]
  },
  {
   "cell_type": "markdown",
   "metadata": {},
   "source": [
    "## `path_graph()`\n",
    "NetworkX has a lot of graph generators. [`path_graph` is one of them](https://networkx.github.io/documentation/networkx-1.10/reference/generated/networkx.generators.classic.path_graph.html), which creates interconnected nodes. \n",
    "\n",
    "```python\n",
    "H = nx.path_graph(7)\n",
    "print(H.nodes())\n",
    "```"
   ]
  },
  {
   "cell_type": "code",
   "execution_count": 15,
   "metadata": {},
   "outputs": [
    {
     "name": "stdout",
     "output_type": "stream",
     "text": [
      "<class 'networkx.classes.reportviews.NodeView'>\n",
      "[0, 1, 2, 3, 4, 5, 6]\n"
     ]
    }
   ],
   "source": [
    "# Code here \n",
    "# the path_graph() method is a graph generator that creates interconnected nodes\n",
    "# creates a list  of nodes that are interconnected\n",
    "H = nx.path_graph(7)\n",
    "# the return is a NodeView object, when printed shows a list\n",
    "print(type(H.nodes()))\n",
    "print(H.nodes())"
   ]
  },
  {
   "cell_type": "markdown",
   "metadata": {},
   "source": [
    "In networkx, several methods return iterators as seen above. We can add the nodes from `H` we created above using `add_nodes_from` method. \n",
    "\n",
    "```python\n",
    "# Add nodes from a path graph\n",
    "G.add_nodes_from(H)\n",
    "print(G.nodes())\n",
    "```"
   ]
  },
  {
   "cell_type": "code",
   "execution_count": 17,
   "metadata": {},
   "outputs": [
    {
     "name": "stdout",
     "output_type": "stream",
     "text": [
      "[1, 'one', 3, 'second', <built-in function cos>, 2, 'node4', 0, 4, 5, 6]\n"
     ]
    }
   ],
   "source": [
    "# Code here\n",
    "# Now that the list has been turned into a NodeView object we can append it to the previous graph G\n",
    "G.add_nodes_from(H)\n",
    "print(G.nodes())"
   ]
  },
  {
   "cell_type": "markdown",
   "metadata": {},
   "source": [
    "## Adding Edges\n",
    "\n",
    "Okie so let's talk about adding edges to random nodes we have created above. An edge between nodes show some sort of property or relationship that connects the nodes together. Edges are added using `add_edge()` method with node specification as shown below:\n",
    "\n",
    "```python\n",
    "# Add edges to graph nodes\n",
    "G.add_edge(0, 'second')\n",
    "G.add_edge(2, 3)\n",
    "G.add_edge('second', 'node4')\n",
    "G.add_edge(0, 'node4')\n",
    "```"
   ]
  },
  {
   "cell_type": "code",
   "execution_count": 19,
   "metadata": {},
   "outputs": [
    {
     "name": "stdout",
     "output_type": "stream",
     "text": [
      "<class 'networkx.classes.reportviews.EdgeView'>\n",
      "[(3, 2), ('second', 0), ('second', 'node4'), ('node4', 0)]\n"
     ]
    }
   ],
   "source": [
    "# Code here \n",
    "# Edges are connections between nodes\n",
    "# to add edges to graph.nodes use the add_edge() method\n",
    "G.add_edge(0, 'second') #creates a edge for the node 0 and 'second'\n",
    "G.add_edge(2, 3) # creates an edge for the node 2 and 3\n",
    "G.add_edge('second', 'node4')\n",
    "G.add_edge(0, 'node4')\n",
    "\n",
    "#show the edges\n",
    "# creates an EdgeView object that contains a list of all the nodes that are connected together\n",
    "print(type(G.edges()))\n",
    "# printing the graph.edges() method shows a tuple of nodes that are connected together\n",
    "print(G.edges())"
   ]
  },
  {
   "cell_type": "markdown",
   "metadata": {},
   "source": [
    "We can also use `add_edges_from()` method to add a list of edges given in an iterable like a list of tuples describing nodes to be connected through edges. This is how you would do it. \n",
    "\n",
    "```python\n",
    "# Add edges from a list\n",
    "list_of_edges = [(2, 3), (4, 5), ('node4', 2)]\n",
    "G.add_edges_from(list_of_edges)\n",
    "\n",
    "```"
   ]
  },
  {
   "cell_type": "code",
   "execution_count": 22,
   "metadata": {},
   "outputs": [
    {
     "name": "stdout",
     "output_type": "stream",
     "text": [
      "[(3, 2), ('second', 0), ('second', 'node4'), (2, 'node'), ('node4', 0), (4, 5)]\n"
     ]
    }
   ],
   "source": [
    "# Code here \n",
    "# To add a list of edges to the graph you can use the add_edges_from() nethod\n",
    "list_of_edges = [(2, 3), (4, 5), ('node', 2)] # list of nodes connected by edges\n",
    "G.add_edges_from(list_of_edges) # added the list to the graph G\n",
    "print(G.edges())"
   ]
  },
  {
   "cell_type": "markdown",
   "metadata": {},
   "source": [
    "## Viewing Edges\n",
    "\n",
    "Similar to viewing nodes, edges can be viewed using `graph.edges()` method.\n",
    "\n",
    "```python\n",
    "# View edges\n",
    "print(G.edges())\n",
    "```"
   ]
  },
  {
   "cell_type": "code",
   "execution_count": 23,
   "metadata": {},
   "outputs": [
    {
     "data": {
      "text/plain": [
       "EdgeView([(3, 2), ('second', 0), ('second', 'node4'), (2, 'node'), ('node4', 0), (4, 5)])"
      ]
     },
     "execution_count": 23,
     "metadata": {},
     "output_type": "execute_result"
    }
   ],
   "source": [
    "# Code here \n",
    "G.edges()"
   ]
  },
  {
   "cell_type": "markdown",
   "metadata": {},
   "source": [
    "## Inspecting number of Edges and Nodes\n",
    "\n",
    "At any stage during the graph development, we can check the total number of nodes and edges in the graph using one of the following criteria. \n",
    "\n",
    "```python\n",
    "# Inspect number of nodes \n",
    "print(G.number_of_nodes(), len(G), len(G.nodes()))\n",
    "\n",
    "# Inspect number of edges\n",
    "print(G.number_of_edges(), len(G.edges()))\n",
    "```"
   ]
  },
  {
   "cell_type": "code",
   "execution_count": 28,
   "metadata": {},
   "outputs": [
    {
     "name": "stdout",
     "output_type": "stream",
     "text": [
      "G.number_of_nodes(): 12\n",
      "len(G): 12\n",
      "len(G.nodes()): 12\n",
      "G.number_of_edges(: 6\n"
     ]
    }
   ],
   "source": [
    "# Code here \n",
    "# There are many ways to see how many nodes and edges there are in a graph.\n",
    "# Checking the number of nodes in a graph\n",
    "print(f'G.number_of_nodes(): {G.number_of_nodes()}')\n",
    "print(f'len(G): {len(G)}') # just liking finding the length of a list or anything else\n",
    "print(f'len(G.nodes()): {len(G.nodes())}')\n",
    "\n",
    "# the same can be done for edges, except substitute nodes for edges\n",
    "print(f'G.number_of_edges(: {G.number_of_edges()}')"
   ]
  },
  {
   "cell_type": "markdown",
   "metadata": {},
   "source": [
    "## Visualizing the graph \n",
    "\n",
    "A simple graph can be visualized using `networkx.draw(graph)` method. Let's try to visualize the graph we have created above with nodes and edges. \n",
    "\n",
    "```python\n",
    "# Visualize the network\n",
    "nx.draw(G)\n",
    "```"
   ]
  },
  {
   "cell_type": "code",
   "execution_count": 30,
   "metadata": {
    "scrolled": false
   },
   "outputs": [
    {
     "data": {
      "image/png": "[encoded data removed]",
      "text/plain": [
       "<Figure size 432x288 with 1 Axes>"
      ]
     },
     "metadata": {},
     "output_type": "display_data"
    }
   ],
   "source": [
    "# Code here \n",
    "# Visualize a graph we can use the networkx.draw(graph) method\n",
    "# This visualizes the nodes for the graph\n",
    "nx.draw(G)"
   ]
  },
  {
   "cell_type": "markdown",
   "metadata": {},
   "source": [
    "We can show the default names for the nodes as labels by passing `with_labels = True` argument to the draw method. \n",
    "\n",
    "```python\n",
    "# Visualize the network with labels \n",
    "nx.draw(G, with_labels = True )\n",
    "```"
   ]
  },
  {
   "cell_type": "code",
   "execution_count": 31,
   "metadata": {
    "scrolled": true
   },
   "outputs": [
    {
     "data": {
      "image/png": "[encoded data removed]",
      "text/plain": [
       "<Figure size 432x288 with 1 Axes>"
      ]
     },
     "metadata": {},
     "output_type": "display_data"
    }
   ],
   "source": [
    "# Code here \n",
    "# name of the nodes can be displayed by passing the argument with_labels=True\n",
    "nx.draw(G, with_labels=True)"
   ]
  },
  {
   "cell_type": "markdown",
   "metadata": {},
   "source": [
    "## Removing nodes and edges\n",
    "\n",
    "Nodes and edges, already added to the graph can be removed using the `remove_node` and `remove_edge` methods as shown below. \n",
    "\n",
    "```python\n",
    "# Remove node from a network \n",
    "print(G.nodes())\n",
    "G.remove_node(0)\n",
    "print(G.nodes())\n",
    "```"
   ]
  },
  {
   "cell_type": "code",
   "execution_count": 32,
   "metadata": {},
   "outputs": [
    {
     "name": "stdout",
     "output_type": "stream",
     "text": [
      "[1, 'one', 3, 'second', <built-in function cos>, 2, 'node4', 0, 4, 5, 6, 'node']\n",
      "[1, 'one', 3, 'second', <built-in function cos>, 2, 'node4', 4, 5, 6, 'node']\n"
     ]
    }
   ],
   "source": [
    "# Code here \n",
    "# Removing nodes can be done by using the graph.remove_node() method\n",
    "print(G.nodes())\n",
    "G.remove_node(0)\n",
    "print(G.nodes())"
   ]
  },
  {
   "cell_type": "markdown",
   "metadata": {},
   "source": [
    "```python\n",
    "# Remove edge from a network \n",
    "print(G.edges())\n",
    "G.remove_edge('second', 'node4')\n",
    "print(G.edges())\n",
    "```"
   ]
  },
  {
   "cell_type": "code",
   "execution_count": 33,
   "metadata": {},
   "outputs": [
    {
     "name": "stdout",
     "output_type": "stream",
     "text": [
      "[(3, 2), ('second', 'node4'), (2, 'node'), (4, 5)]\n",
      "[(3, 2), (2, 'node'), (4, 5)]\n"
     ]
    }
   ],
   "source": [
    "# Code here \n",
    "# The same can be done with edges using the remove_edge() method\n",
    "print(G.edges())\n",
    "G.remove_edge('second', 'node4')\n",
    "print(G.edges())"
   ]
  },
  {
   "cell_type": "markdown",
   "metadata": {},
   "source": [
    "## Clearing the Network \n",
    "\n",
    "A graph can be reset/cleared at any stage using the `graph.clear()` method. \n",
    "\n",
    "```python\n",
    "# Clear a network \n",
    "G.clear()\n",
    "print(G.nodes(), G.edges())\n",
    "```"
   ]
  },
  {
   "cell_type": "code",
   "execution_count": 34,
   "metadata": {},
   "outputs": [
    {
     "name": "stdout",
     "output_type": "stream",
     "text": [
      "[1, 'one', 3, 'second', <built-in function cos>, 2, 'node4', 4, 5, 6, 'node'] [(3, 2), (2, 'node'), (4, 5)]\n",
      "[] []\n"
     ]
    }
   ],
   "source": [
    "# Code here \n",
    "# A graph can be cleared by using the graph.clear() method\n",
    "print(G.nodes(), G.edges())\n",
    "G.clear()\n",
    "print(G.nodes(), G.edges())"
   ]
  },
  {
   "cell_type": "markdown",
   "metadata": {},
   "source": [
    "## Quick recap "
   ]
  },
  {
   "cell_type": "markdown",
   "metadata": {},
   "source": [
    "Below is another example of creating a graph and manipulating its components, just to summarize what we have seen above. Look at how we can use `graph.degree` to calculate the number of nodes connected to each node. "
   ]
  },
  {
   "cell_type": "code",
   "execution_count": 36,
   "metadata": {},
   "outputs": [
    {
     "data": {
      "text/plain": [
       "DegreeView({})"
      ]
     },
     "execution_count": 36,
     "metadata": {},
     "output_type": "execute_result"
    }
   ],
   "source": [
    "# Code here \n",
    "G.degree()"
   ]
  },
  {
   "cell_type": "markdown",
   "metadata": {},
   "source": [
    "## Erdos-Reyni Graph Generator\n",
    "\n",
    "\n",
    "Let's look at a simple graph generator available in networkX called `networkx.erdos_renyi_graph()`. [Here is a bit of background on this algorithm](https://www.geeksforgeeks.org/erdos-renyl-model-generating-random-graphs/). \n",
    "\n",
    "The generated network is an undirected network. It start with all isolated nodes (no edges) and add edges between\n",
    "pairs of nodes one at a time randomly. It is perhaps the simplest (dumbest) possible network model and is very unlikely that real networks actually form like this (certainly not social networks). However, can predict a surprising number of interesting properties. There are two possible choices for adding edges randomly:\n",
    "- Randomize edge presence or absence\n",
    "- Randomize node pairs\n",
    "\n",
    "The generator uses two parameters: \n",
    "- Number of nodes: n\n",
    "- Probability that an edge is present: p\n",
    "\n",
    "For each of the n(n−1)/2 possible edges in the network, imagine flipping a (biased) coin that comes up “heads” with probability p\n",
    "- If coin flip is “heads”, then add the edge to the network\n",
    "- If coin flip is “tails”, then don’t add the edge to the network\n",
    "\n",
    "The generator creates a binomial graph,  known as the **“G(n, p) model”** (graph on n nodes with probability p). Here is the link for the [official documentation](https://networkx.github.io/documentation/networkx-1.10/reference/generated/networkx.generators.random_graphs.erdos_renyi_graph.html).\n",
    "\n",
    "```python\n",
    "# Erdos-Reyni Graph Generator\n",
    "G = nx.erdos_renyi_graph(10, 0.5, seed=1)\n",
    "\n",
    "# Let's checkout nodes and edges\n",
    "print(G.nodes())\n",
    "print(G.edges())\n",
    "nx.draw(G, with_labels=True)\n",
    "```"
   ]
  },
  {
   "cell_type": "code",
   "execution_count": 37,
   "metadata": {},
   "outputs": [
    {
     "name": "stdout",
     "output_type": "stream",
     "text": [
      "[0, 1, 2, 3, 4, 5, 6, 7, 8, 9]\n",
      "[(0, 1), (0, 4), (0, 5), (0, 6), (0, 9), (1, 2), (1, 4), (1, 6), (1, 7), (1, 9), (2, 5), (2, 6), (2, 9), (3, 4), (3, 5), (3, 6), (3, 7), (3, 8), (3, 9), (4, 5), (4, 6), (4, 7), (4, 8), (4, 9), (5, 6), (6, 7), (7, 8), (7, 9)]\n"
     ]
    },
    {
     "data": {
      "image/png": "[encoded data removed]",
      "text/plain": [
       "<Figure size 432x288 with 1 Axes>"
      ]
     },
     "metadata": {},
     "output_type": "display_data"
    }
   ],
   "source": [
    "# Code here \n",
    "# creates a Erdos Renyi graph with 10 flips, and a 50% probability that it will land on heads\n",
    "G = nx.erdos_renyi_graph(10, 0.5, seed=1)\n",
    "\n",
    "print(G.nodes())\n",
    "print(G.edges())\n",
    "nx.draw(G, with_labels=True)"
   ]
  },
  {
   "cell_type": "markdown",
   "metadata": {},
   "source": [
    "## Adding Node attributes"
   ]
  },
  {
   "cell_type": "markdown",
   "metadata": {},
   "source": [
    "Every node and edge is associated with a dictionary from attribute keys to values. We can add node attributes as optional arguments along with most add methods in networkx as shown here. Let's change our graph from above and give it a \"name\" attribute. We can save some string values in to this attribute and visualize the network based on its name. \n",
    "\n",
    "```python\n",
    "G.node[0]['name'] = 'pizza'\n",
    "G.node[1]['name'] = 'mac and cheese'\n",
    "G.node[2]['name'] = 'balogna sandwich'\n",
    "G.node[3]['name'] = 'pizza'\n",
    "G.node[4]['name'] = 'bananas'\n",
    "G.node[5]['name'] = 'ice crem'\n",
    "G.node[6]['name'] = 'currys'\n",
    "G.node[7]['name'] = 'sushi'\n",
    "G.node[8]['name'] = 'egg sandwich'\n",
    "G.node[9]['name'] = 'apples'\n",
    "nx.get_node_attributes(G,'name')\n",
    "nx.draw(G,labels=nx.get_node_attributes(G,'name'),node_size=5000)\n",
    "```"
   ]
  },
  {
   "cell_type": "code",
   "execution_count": 44,
   "metadata": {},
   "outputs": [
    {
     "data": {
      "image/png": "[encoded data removed]",
      "text/plain": [
       "<Figure size 432x288 with 1 Axes>"
      ]
     },
     "metadata": {},
     "output_type": "display_data"
    }
   ],
   "source": [
    "# Code here \n",
    "# create names for each of the nodes\n",
    "# the first slic is the node itself and the second slice is what the name will be\n",
    "G.node[0]['name'] = 'pizza' # assigns the name 'pizza' to node 0\n",
    "G.node[1]['name'] = 'mac and cheese'\n",
    "G.node[2]['name'] = 'balogna sandwich'\n",
    "G.node[3]['name'] = 'pizza'\n",
    "G.node[4]['name'] = 'bananas'\n",
    "G.node[5]['name'] = 'ice crem'\n",
    "G.node[6]['name'] = 'currys'\n",
    "G.node[7]['name'] = 'sushi'\n",
    "G.node[8]['name'] = 'egg sandwich'\n",
    "G.node[9]['name'] = 'apples'\n",
    "nx.get_node_attributes(G, 'name') # iterates through each node assigning it it's name from the names above\n",
    "nx.draw(G, labels=nx.get_node_attributes(G, 'name'), node_size=5000) # visualizes the graph the specified attributes"
   ]
  },
  {
   "cell_type": "markdown",
   "metadata": {},
   "source": [
    "We can also use lists to ease the process of adding new attributes to a graph as shown below:\n",
    "    \n",
    "```python\n",
    "# Add attributes to graph from a list \n",
    "prices = [3,5,2,7,5,6,2,4,9,12]\n",
    "for i in range(10):\n",
    "    G.node[i]['price'] = prices[i]\n",
    "print(G.nodes('name'))\n",
    "print(G.nodes('price'))\n",
    "```"
   ]
  },
  {
   "cell_type": "code",
   "execution_count": 46,
   "metadata": {},
   "outputs": [
    {
     "name": "stdout",
     "output_type": "stream",
     "text": [
      "[(0, 'pizza'), (1, 'mac and cheese'), (2, 'balogna sandwich'), (3, 'pizza'), (4, 'bananas'), (5, 'ice crem'), (6, 'currys'), (7, 'sushi'), (8, 'egg sandwich'), (9, 'apples')]\n",
      "[(0, 3), (1, 5), (2, 2), (3, 7), (4, 5), (5, 6), (6, 2), (7, 4), (8, 9), (9, 12)]\n"
     ]
    }
   ],
   "source": [
    "# Code here \n",
    "# a for look can be created to automate the process of assigning a name to each node\n",
    "prices = [3,5,2,7,5,6,2,4,9,12]\n",
    "for i in range(10):\n",
    "    G.nodes[i]['price'] = prices[i]\n",
    "print(G.nodes('name'))\n",
    "print(G.nodes('price'))"
   ]
  },
  {
   "cell_type": "markdown",
   "metadata": {},
   "source": [
    "## Adding Edge Attributes"
   ]
  },
  {
   "cell_type": "markdown",
   "metadata": {},
   "source": [
    "Similar to above, we can add attributes to edges. `weight` can be used a speacial edge attribute which can be used to highlight the strength of relationship between two nodes. Let's see how we do this using `add_edge()` and `add_edge_from()` methods. \n",
    "\n",
    "\n",
    "\n",
    "```python\n",
    "# Add edge Attributes\n",
    "G.add_edge(1, 5, weight=4.7)\n",
    "G[1][2]['weight'] = 5.6\n",
    "\n",
    "print(G[1][5]['weight'])\n",
    "print(G[1][2]['weight'])\n",
    "```"
   ]
  },
  {
   "cell_type": "code",
   "execution_count": 48,
   "metadata": {},
   "outputs": [
    {
     "name": "stdout",
     "output_type": "stream",
     "text": [
      "4.7\n",
      "5.6\n"
     ]
    }
   ],
   "source": [
    "# Code here \n",
    "# the edges can also be customized\n",
    "G.add_edge(1, 5, weight=4.7) # creates an edge for nodes 1 and 5 with a weight of 4.7\n",
    "G[1][2]['weight'] = 5.6 # also creates the edge specifying the node and weight \n",
    "\n",
    "print(G[1][5]['weight'])\n",
    "print(G[1][2]['weight'])"
   ]
  },
  {
   "cell_type": "markdown",
   "metadata": {},
   "source": [
    "```python\n",
    "# Add edge from method\n",
    "\n",
    "G.add_edges_from([(3, 4), (4, 5)], color='red')\n",
    "G.add_edges_from([(1, 2, {'color': 'blue'}), (2, 3, {'weight': 8})])\n",
    "print(G[2][3]['weight'])\n",
    "print(G[3][4]['color'])\n",
    "print(G[4][5]['color'])\n",
    "print(G[1][2]['color'])\n",
    "print(G[1][2]) # All edge attributes\n",
    "```"
   ]
  },
  {
   "cell_type": "code",
   "execution_count": 49,
   "metadata": {
    "scrolled": true
   },
   "outputs": [
    {
     "name": "stdout",
     "output_type": "stream",
     "text": [
      "8\n",
      "red\n",
      "red\n",
      "blue\n",
      "{'weight': 5.6, 'color': 'blue'}\n"
     ]
    }
   ],
   "source": [
    "# Code here \n",
    "# multiple edges can be customized at once using the add_edges_from() method and supplying the attributes\n",
    "G.add_edges_from([(3, 4), (4, 5)], color='red') # creates edges with the 'red' for nodes (3, 4) and (4, 5)\n",
    "G.add_edges_from([(1, 2, {'color':'blue'}), (2, 3, {'weight':8})]) # creates edges for two separate nodes with different attributes\n",
    "print(G[2][3]['weight'])\n",
    "print(G[3][4]['color'])\n",
    "print(G[4][5]['color'])\n",
    "print(G[1][2]['color'])\n",
    "print(G[1][2]) # All edge attributes"
   ]
  },
  {
   "cell_type": "markdown",
   "metadata": {},
   "source": [
    "## Drawing with Customizations\n",
    "\n",
    "We can selectively visualize the node and edge attributes using `draw_networkx_labels` and `draw_networkx_edge_labels`. The `pos` argument passed to `nx.draw()`  with a [layout](https://networkx.github.io/documentation/networkx-1.10/reference/drawing.html?highlight=layout#module-networkx.drawing.layout) to describe how nodes and edges might be formatted. \n",
    "\n",
    "```python\n",
    "# Visulize the graph with selective options\n",
    "pos = nx.spring_layout(G)\n",
    "\n",
    "nx.draw(G, pos, node_size=1000, font_size=30, node_color='salmon')\n",
    "\n",
    "node_labels = nx.get_node_attributes(G,'name')\n",
    "nx.draw_networkx_labels(G, pos, labels = node_labels)\n",
    "\n",
    "edge_labels = nx.get_edge_attributes(G,'weight')\n",
    "nx.draw_networkx_edge_labels(G, pos, edge_labels = edge_labels)\n",
    "# plt.savefig('this.png')\n",
    "plt.show()\n",
    "```"
   ]
  },
  {
   "cell_type": "code",
   "execution_count": 50,
   "metadata": {},
   "outputs": [
    {
     "data": {
      "image/png": "[encoded data removed]",
      "text/plain": [
       "<Figure size 432x288 with 1 Axes>"
      ]
     },
     "metadata": {},
     "output_type": "display_data"
    }
   ],
   "source": [
    "# Code here \n",
    "# Graphs can be visualized with a specific theme \n",
    "pos = nx.spring_layout(G)\n",
    "\n",
    "nx.draw(G, pos, node_size=1000, font_size=30, node_color='salmon') # visualizes the graph with different font attributes\n",
    "\n",
    "node_labels = nx.get_node_attributes(G,'name')\n",
    "nx.draw_networkx_labels(G, pos, labels = node_labels)\n",
    "\n",
    "edge_labels = nx.get_edge_attributes(G,'weight')\n",
    "nx.draw_networkx_edge_labels(G, pos, edge_labels = edge_labels)\n",
    "# plt.savefig('this.png')\n",
    "plt.show()"
   ]
  },
  {
   "cell_type": "markdown",
   "metadata": {},
   "source": [
    "## Summary \n",
    "\n",
    "In this code along, we looked at some basic graph definitions in networkx. We looked at number of different ways to add nodes and edges to a graph. We also looked at setting up different attributes for nodes and edges and visualizing the graph with customized options. We can now move on to seeing how we can apply different analytical techniques to our graphs. "
   ]
  }
 ],
 "metadata": {
  "kernelspec": {
   "display_name": "Python 3",
   "language": "python",
   "name": "python3"
  },
  "language_info": {
   "codemirror_mode": {
    "name": "ipython",
    "version": 3
   },
   "file_extension": ".py",
   "mimetype": "text/x-python",
   "name": "python",
   "nbconvert_exporter": "python",
   "pygments_lexer": "ipython3",
   "version": "3.7.0"
  }
 },
 "nbformat": 4,
 "nbformat_minor": 2
}
